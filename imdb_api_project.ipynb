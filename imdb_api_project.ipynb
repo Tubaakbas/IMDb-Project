{
 "cells": [
  {
   "cell_type": "code",
   "execution_count": 5,
   "metadata": {},
   "outputs": [],
   "source": [
    "import http.client"
   ]
  },
  {
   "cell_type": "code",
   "execution_count": 7,
   "metadata": {},
   "outputs": [],
   "source": [
    "conn = http.client.HTTPSConnection(\"imdb8.p.rapidapi.com\")\n",
    "\n",
    "headers = {\n",
    "    'X-RapidAPI-Key': \"54e8ef1656msh382db4d78e6b06ep11834djsn29f3de0d1a30\",\n",
    "    'X-RapidAPI-Host': \"imdb8.p.rapidapi.com\"\n",
    "}\n"
   ]
  },
  {
   "cell_type": "code",
   "execution_count": 8,
   "metadata": {},
   "outputs": [],
   "source": [
    "conn.request(\"GET\", \"/auto-complete?q=game%20of%20thr\", headers=headers)\n",
    "\n",
    "res = conn.getresponse()\n",
    "data = res.read()"
   ]
  },
  {
   "cell_type": "code",
   "execution_count": 10,
   "metadata": {},
   "outputs": [
    {
     "name": "stdout",
     "output_type": "stream",
     "text": [
      "{\"d\":[{\"i\":{\"height\":1500,\"imageUrl\":\"https://m.media-amazon.com/images/M/MV5BN2IzYzBiOTQtNGZmMi00NDI5LTgxMzMtN2EzZjA1NjhlOGMxXkEyXkFqcGdeQXVyNjAwNDUxODI@._V1_.jpg\",\"width\":1000},\"id\":\"tt0944947\",\"l\":\"Game of Thrones\",\"q\":\"TV series\",\"qid\":\"tvSeries\",\"rank\":37,\"s\":\"Emilia Clarke, Peter Dinklage\",\"y\":2011,\"yr\":\"2011-2019\"},{\"i\":{\"height\":1200,\"imageUrl\":\"https://m.media-amazon.com/images/M/MV5BNTg1MjEyNWYtNzJkZi00ZTM5LThlNWMtMmNiNmE3N2QxNTllXkEyXkFqcGdeQXVyNTE1NjY5Mg@@._V1_.jpg\",\"width\":782},\"id\":\"tt13380510\",\"l\":\"Game of Thrones\",\"q\":\"video\",\"qid\":\"video\",\"rank\":14535,\"s\":\"Roy Dotrice\",\"y\":2003},{\"id\":\"tt21073266\",\"l\":\"Untitled Jon Snow/Game of Thrones Spinoff\",\"q\":\"TV series\",\"qid\":\"tvSeries\",\"rank\":17969,\"s\":\"\"},{\"i\":{\"height\":750,\"imageUrl\":\"https://m.media-amazon.com/images/M/MV5BODg5NDJhMjYtMTYyYi00NzAwLTliNmYtNGZhMjQ4ZjNkMjgyXkEyXkFqcGdeQXVyNTA3MTU2MjE@._V1_.jpg\",\"width\":1334},\"id\":\"tt6857128\",\"l\":\"Unaired Game of Thrones Prequel Pilot\",\"q\":\"TV movie\",\"qid\":\"tvMovie\",\"rank\":25939,\"s\":\"Miranda Richardson, Georgie Henley\",\"y\":2019},{\"i\":{\"height\":1200,\"imageUrl\":\"https://m.media-amazon.com/images/M/MV5BZDdlMzQzNDQtNTAxMS00NTMyLTgxYTAtYzQ0OGI1YzZhY2Y3XkEyXkFqcGdeQXVyMTkxNjUyNQ@@._V1_.jpg\",\"width\":810},\"id\":\"tt10090796\",\"l\":\"Game of Thrones: The Last Watch\",\"q\":\"TV movie\",\"qid\":\"tvMovie\",\"rank\":38191,\"s\":\"Kevin Alexander, Alfie Allen\",\"y\":2019},{\"i\":{\"height\":1920,\"imageUrl\":\"https://m.media-amazon.com/images/M/MV5BMjk2NjgzMTEtYWViZS00NTMyLWFjMzctODczYmQzNzk2NjIwXkEyXkFqcGdeQXVyMTEyMjM2NDc2._V1_.jpg\",\"width\":1296},\"id\":\"tt11198330\",\"l\":\"House of the Dragon\",\"q\":\"TV series\",\"qid\":\"tvSeries\",\"rank\":126,\"s\":\"Matt Smith, Emma D'Arcy\",\"y\":2022},{\"i\":{\"height\":840,\"imageUrl\":\"https://m.media-amazon.com/images/M/MV5BMGYzNDJiOTgtN2Y1OC00NmM2LTk3MTMtZmFhNmJlMzQzNGNhXkEyXkFqcGdeQXVyNDgyODgxNjE@._V1_.jpg\",\"width\":600},\"id\":\"tt7937220\",\"l\":\"Game of Thrones Conquest & Rebellion: An Animated History of the Seven Kingdoms\",\"q\":\"video\",\"qid\":\"video\",\"rank\":35942,\"s\":\"Pilou Asbæk, Nikolaj Coster-Waldau\",\"y\":2017},{\"i\":{\"height\":1330,\"imageUrl\":\"https://m.media-amazon.com/images/M/MV5BMzc3M2U2NzAtMmY1MS00NWYwLWFmMzctYzE2NWEyODYxNTk4XkEyXkFqcGdeQXVyMzIzNzE4Njk@._V1_.jpg\",\"width\":1021},\"id\":\"tt6411748\",\"l\":\"Purge of Kingdoms\",\"q\":\"feature\",\"qid\":\"movie\",\"rank\":56238,\"s\":\"Angus Macfadyen, Lou Ferrigno\",\"y\":2019}],\"q\":\"game%20of%20thr\",\"v\":1}\n"
     ]
    }
   ],
   "source": [
    "\n",
    "print(data.decode(\"utf-8\"))"
   ]
  }
 ],
 "metadata": {
  "kernelspec": {
   "display_name": "base",
   "language": "python",
   "name": "python3"
  },
  "language_info": {
   "codemirror_mode": {
    "name": "ipython",
    "version": 3
   },
   "file_extension": ".py",
   "mimetype": "text/x-python",
   "name": "python",
   "nbconvert_exporter": "python",
   "pygments_lexer": "ipython3",
   "version": "3.11.5"
  }
 },
 "nbformat": 4,
 "nbformat_minor": 2
}
